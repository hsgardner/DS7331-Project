{
 "cells": [
  {
   "cell_type": "markdown",
   "id": "6baab44a",
   "metadata": {},
   "source": [
    "# DS7331 Project 1 \n",
    "#### Group 2: Hollie Gardner, Cleveland Johnson, Shelby Provost\n",
    "Dataset from https://archive-beta.ics.uci.edu/ml/datasets/census+income"
   ]
  },
  {
   "cell_type": "code",
   "execution_count": 28,
   "id": "329f550a",
   "metadata": {},
   "outputs": [],
   "source": [
    "#import libraries\n",
    "import pandas as pd\n",
    "import numpy as np\n",
    "import matplotlib.pyplot as plt\n",
    "import seaborn as sns\n",
    "import warnings"
   ]
  },
  {
   "cell_type": "markdown",
   "id": "0939dbe5",
   "metadata": {},
   "source": [
    "## Lab One - Visualization and Data Preprocessing \n",
    "### Part One: Business Understanding \n",
    "* **1. Describe the purpose of the data set you selected (i.e., why was this data collected in the first place?).**<br>\n",
    "    <br>Census data is regularly collected by the US Census Bureau in order for the government to understand the characteristics of US population. Data collected from every household in the US through census surveys typically includes details on a number of items such as number of people in the household, income, profession, race/ethnity, languages spoken, sex, age, etc. This dataset was extract from the 1994 Census database by Barry Becker for the purpose of predicting if an individual's income is greater than $50k.<br>\n",
    "    <br>\n",
    "\n",
    "* **2. Describe how you would define and measure the outcomes from the dataset.**<br>\n",
    "    <br>The outcomes from this dataset \n",
    "    \n",
    "* **3. Why is this data important and how do you know if you have mined useful knowledge from the dataset?**<br>\n",
    "    <br>This data is important because it helps the government understand the health of the economy and the ability of its citizens to participate fully. The data can assist government offices in identifying priorities for initiatives or policies to push forward. Furthermore, the data can provide some insight into any inequities that exist within sex, age, or race categories or comparing similar jobs across private and government sectors. Useful knowledge mined from the dataset would be able to confidently explain possible relationships from correlations between the attributes to provide insights to provide the \"what\" is happening, so action can be taken to figure out \"why\" it is happening. <br>\n",
    "    <br>\n",
    "* **4. How would you measure the effectiveness of a good prediction algorithm?**<br>\n",
    "    <br>The effectiveness of a good prediction algorithm would be measured through the error rates in the algorithm's ability to classify learn from the training data and predict the individual income categories in the test set based off of the attributes provided."
   ]
  },
  {
   "cell_type": "markdown",
   "id": "1cfa6180",
   "metadata": {},
   "source": [
    "### Part Two: EDA \n",
    "**1. Describe the meaning and type of data (scale, values, etc.) for each attribute in the data file.**\n",
    "\n"
   ]
  },
  {
   "cell_type": "markdown",
   "metadata": {},
   "source": [
    "This dataset contains 15 attributes for 32,560 instances in the training set. The test set includes an additional 16,281 instances. In addition to the code below, details were obtained from the adult.names file provided by dataset donors from the above linked UCI website.\n",
    "\n",
    "The attribute descriptions are as follows:\n",
    "* **age** (integer, range 17-90 ): This is the age of the individual. \n",
    "* **workclass** (categorical, 9 levels): Work class is the sector or category of the individual's occupation\n",
    "* **fnlwgt** (integer, range 13769-1484705): The \"final weight\" attribute was calculated from the Current Population Survey and \"refers to population totals derived from CPS by creating \"weighted tallies\" of any specified socio-economic characteristics of the population.\" (See full description of this attribute from Kohavi and Becker below)\n",
    "* **education** (categorical, 16 levels): Highest level of education the individual has obtained\n",
    "* **education-num** (integer, range 1-16): ___\n",
    "* **marital-status** (categorical, 7 levels): The individual's marital status\n",
    "* **occupation** (categorical, 15 levels): The type of work an individual performs\n",
    "* **relationship** (categorical, 6 levels): ____\n",
    "* **race** (categorical, 5 levels): Individual's racial group\n",
    "* **sex** (categorical, 2 levels): Male or Female\n",
    "* **capital-gain** (integer, range 0-99999): _____\n",
    "* **capital-loss** (integer, range 0-4356): _____\n",
    "* **hours-per-week** (integer, range 1-99): Number of hours per week individual works in occupation\n",
    "* **native-country** (categorical, 42 levels): The individual's native country\n",
    "* **income** (categorical, 2 levels): This has been converted from the raw data to be less than or equal to $50K or greater than $50K\n",
    "<br>\n",
    "<br>\n",
    "\n",
    "**Kohavi and Becker Description of Final Weight from adult.names file:**\n",
    "<br>\n",
    "\"The weights on the CPS files are controlled to independent estimates of the civilian noninstitutional population of the US. These are prepared monthly for us by Population Division here at the Census Bureau. We use 3 sets of controls. These are:\n",
    "1.  A single cell estimate of the population 16+ for each state.\n",
    "2.  Controls for Hispanic Origin by age and sex.\n",
    "3.  Controls by Race, age and sex.\n",
    "<br>\n",
    "\n",
    "We use all three sets of controls in our weighting program and \"rake\" through them 6 times so that by the end we come back to all the controls we used.\n",
    "<br>\n",
    "The term estimate refers to population totals derived from CPS by creating \"weighted tallies\" of any specified socio-economic characteristics of the population.\n",
    "<br><br>\n",
    "People with similar demographic characteristics should have similar weights.  There is one important caveat to remember about this statement. That is that since the CPS sample is actually a collection of 51 state samples, each with its own probability of selection, the statement only applies within state.\""
   ]
  },
  {
   "cell_type": "code",
   "execution_count": 2,
   "id": "2f225805",
   "metadata": {},
   "outputs": [
    {
     "data": {
      "text/html": [
       "<div>\n",
       "<style scoped>\n",
       "    .dataframe tbody tr th:only-of-type {\n",
       "        vertical-align: middle;\n",
       "    }\n",
       "\n",
       "    .dataframe tbody tr th {\n",
       "        vertical-align: top;\n",
       "    }\n",
       "\n",
       "    .dataframe thead th {\n",
       "        text-align: right;\n",
       "    }\n",
       "</style>\n",
       "<table border=\"1\" class=\"dataframe\">\n",
       "  <thead>\n",
       "    <tr style=\"text-align: right;\">\n",
       "      <th></th>\n",
       "      <th>age</th>\n",
       "      <th>workclass</th>\n",
       "      <th>fnlwgt</th>\n",
       "      <th>education</th>\n",
       "      <th>education-num</th>\n",
       "      <th>marital-status</th>\n",
       "      <th>occupation</th>\n",
       "      <th>relationship</th>\n",
       "      <th>race</th>\n",
       "      <th>sex</th>\n",
       "      <th>capital-gain</th>\n",
       "      <th>capital-loss</th>\n",
       "      <th>hours-per-week</th>\n",
       "      <th>native-country</th>\n",
       "      <th>income</th>\n",
       "    </tr>\n",
       "  </thead>\n",
       "  <tbody>\n",
       "    <tr>\n",
       "      <th>0</th>\n",
       "      <td>39</td>\n",
       "      <td>State-gov</td>\n",
       "      <td>77516</td>\n",
       "      <td>Bachelors</td>\n",
       "      <td>13</td>\n",
       "      <td>Never-married</td>\n",
       "      <td>Adm-clerical</td>\n",
       "      <td>Not-in-family</td>\n",
       "      <td>White</td>\n",
       "      <td>Male</td>\n",
       "      <td>2174</td>\n",
       "      <td>0</td>\n",
       "      <td>40</td>\n",
       "      <td>United-States</td>\n",
       "      <td>&lt;=50K</td>\n",
       "    </tr>\n",
       "    <tr>\n",
       "      <th>1</th>\n",
       "      <td>50</td>\n",
       "      <td>Self-emp-not-inc</td>\n",
       "      <td>83311</td>\n",
       "      <td>Bachelors</td>\n",
       "      <td>13</td>\n",
       "      <td>Married-civ-spouse</td>\n",
       "      <td>Exec-managerial</td>\n",
       "      <td>Husband</td>\n",
       "      <td>White</td>\n",
       "      <td>Male</td>\n",
       "      <td>0</td>\n",
       "      <td>0</td>\n",
       "      <td>13</td>\n",
       "      <td>United-States</td>\n",
       "      <td>&lt;=50K</td>\n",
       "    </tr>\n",
       "    <tr>\n",
       "      <th>2</th>\n",
       "      <td>38</td>\n",
       "      <td>Private</td>\n",
       "      <td>215646</td>\n",
       "      <td>HS-grad</td>\n",
       "      <td>9</td>\n",
       "      <td>Divorced</td>\n",
       "      <td>Handlers-cleaners</td>\n",
       "      <td>Not-in-family</td>\n",
       "      <td>White</td>\n",
       "      <td>Male</td>\n",
       "      <td>0</td>\n",
       "      <td>0</td>\n",
       "      <td>40</td>\n",
       "      <td>United-States</td>\n",
       "      <td>&lt;=50K</td>\n",
       "    </tr>\n",
       "    <tr>\n",
       "      <th>3</th>\n",
       "      <td>53</td>\n",
       "      <td>Private</td>\n",
       "      <td>234721</td>\n",
       "      <td>11th</td>\n",
       "      <td>7</td>\n",
       "      <td>Married-civ-spouse</td>\n",
       "      <td>Handlers-cleaners</td>\n",
       "      <td>Husband</td>\n",
       "      <td>Black</td>\n",
       "      <td>Male</td>\n",
       "      <td>0</td>\n",
       "      <td>0</td>\n",
       "      <td>40</td>\n",
       "      <td>United-States</td>\n",
       "      <td>&lt;=50K</td>\n",
       "    </tr>\n",
       "    <tr>\n",
       "      <th>4</th>\n",
       "      <td>28</td>\n",
       "      <td>Private</td>\n",
       "      <td>338409</td>\n",
       "      <td>Bachelors</td>\n",
       "      <td>13</td>\n",
       "      <td>Married-civ-spouse</td>\n",
       "      <td>Prof-specialty</td>\n",
       "      <td>Wife</td>\n",
       "      <td>Black</td>\n",
       "      <td>Female</td>\n",
       "      <td>0</td>\n",
       "      <td>0</td>\n",
       "      <td>40</td>\n",
       "      <td>Cuba</td>\n",
       "      <td>&lt;=50K</td>\n",
       "    </tr>\n",
       "  </tbody>\n",
       "</table>\n",
       "</div>"
      ],
      "text/plain": [
       "   age         workclass  fnlwgt  education  education-num  \\\n",
       "0   39         State-gov   77516  Bachelors             13   \n",
       "1   50  Self-emp-not-inc   83311  Bachelors             13   \n",
       "2   38           Private  215646    HS-grad              9   \n",
       "3   53           Private  234721       11th              7   \n",
       "4   28           Private  338409  Bachelors             13   \n",
       "\n",
       "       marital-status         occupation   relationship   race     sex  \\\n",
       "0       Never-married       Adm-clerical  Not-in-family  White    Male   \n",
       "1  Married-civ-spouse    Exec-managerial        Husband  White    Male   \n",
       "2            Divorced  Handlers-cleaners  Not-in-family  White    Male   \n",
       "3  Married-civ-spouse  Handlers-cleaners        Husband  Black    Male   \n",
       "4  Married-civ-spouse     Prof-specialty           Wife  Black  Female   \n",
       "\n",
       "   capital-gain  capital-loss  hours-per-week native-country income  \n",
       "0          2174             0              40  United-States  <=50K  \n",
       "1             0             0              13  United-States  <=50K  \n",
       "2             0             0              40  United-States  <=50K  \n",
       "3             0             0              40  United-States  <=50K  \n",
       "4             0             0              40           Cuba  <=50K  "
      ]
     },
     "execution_count": 2,
     "metadata": {},
     "output_type": "execute_result"
    }
   ],
   "source": [
    "# Importing the census dataset using pandas\n",
    "# Reading the CSV file after converting file to csv and removing superfluous spaces via Excel.\n",
    "df = pd.read_csv('adult-data.csv')\n",
    "\n",
    "# Getting a first look at the dataset\n",
    "df.head()"
   ]
  },
  {
   "cell_type": "code",
   "execution_count": 3,
   "id": "e2c4a2e2",
   "metadata": {},
   "outputs": [
    {
     "name": "stdout",
     "output_type": "stream",
     "text": [
      "<class 'pandas.core.frame.DataFrame'>\n",
      "RangeIndex: 32561 entries, 0 to 32560\n",
      "Data columns (total 15 columns):\n",
      " #   Column          Non-Null Count  Dtype \n",
      "---  ------          --------------  ----- \n",
      " 0   age             32561 non-null  int64 \n",
      " 1   workclass       32561 non-null  object\n",
      " 2   fnlwgt          32561 non-null  int64 \n",
      " 3   education       32561 non-null  object\n",
      " 4   education-num   32561 non-null  int64 \n",
      " 5   marital-status  32561 non-null  object\n",
      " 6   occupation      32561 non-null  object\n",
      " 7   relationship    32561 non-null  object\n",
      " 8   race            32561 non-null  object\n",
      " 9   sex             32561 non-null  object\n",
      " 10  capital-gain    32561 non-null  int64 \n",
      " 11  capital-loss    32561 non-null  int64 \n",
      " 12  hours-per-week  32561 non-null  int64 \n",
      " 13  native-country  32561 non-null  object\n",
      " 14  income          32561 non-null  object\n",
      "dtypes: int64(6), object(9)\n",
      "memory usage: 3.7+ MB\n",
      "None\n"
     ]
    }
   ],
   "source": [
    "#summary of the dataset\n",
    "print (df.info())"
   ]
  },
  {
   "cell_type": "code",
   "execution_count": 4,
   "id": "73f30f38",
   "metadata": {},
   "outputs": [
    {
     "name": "stdout",
     "output_type": "stream",
     "text": [
      "age                  73\n",
      "workclass             9\n",
      "fnlwgt            21648\n",
      "education            16\n",
      "education-num        16\n",
      "marital-status        7\n",
      "occupation           15\n",
      "relationship          6\n",
      "race                  5\n",
      "sex                   2\n",
      "capital-gain        119\n",
      "capital-loss         92\n",
      "hours-per-week       94\n",
      "native-country       42\n",
      "income                2\n",
      "dtype: int64\n"
     ]
    }
   ],
   "source": [
    "#obtaining number of levels for each object attribute\n",
    "print(df.nunique())"
   ]
  },
  {
   "cell_type": "markdown",
   "id": "93ff541c",
   "metadata": {},
   "source": [
    "**2. Explain any missing values, duplicate data, and outliers. Are those mistakes? How do you deal with these problems?**<br>\n",
    "<br>\n",
    "    According to the Kohavi and Becker, the following changes have already been made to the raw data:\n",
    "* Discretized agrossincome into two ranges with threshold 50,000.\n",
    "* Convert U.S. to US to avoid periods.\n",
    "* Convert Unknown to \"?\"\n",
    "* Run MLC++ GenCVFiles to generate data,test.\n",
    "<br>\n",
    "\n",
    "Therefore, we will begin by looking for the '?' values in the dataset by counting the number in each column. Then, we will replace as null using numpy. We decided to handle missing values in the following three variables which possessed missing values as below: \n",
    "\n",
    "* Workclass: 1836 rows\n",
    "* Occupation: 1843 rows\n",
    "* Native-Country: 583 rows\n",
    "\n",
    "There is not a way to impute values for these categorical variables and leaving as unknown variables does not add value to our analysis. Therefore, these rows will be removed leaving us with 30,162 complete rows in this dataframe.\n",
    "\n",
    "As for duplicates, Kohavi and Becker described 6 duplicate rows. After reviewing our current dataframe, there do not appear to be any instances of duplicate data.\n"
   ]
  },
  {
   "cell_type": "code",
   "execution_count": 5,
   "id": "8b7bd1ad",
   "metadata": {},
   "outputs": [
    {
     "data": {
      "text/plain": [
       "age                  0\n",
       "workclass         1836\n",
       "fnlwgt               0\n",
       "education            0\n",
       "education-num        0\n",
       "marital-status       0\n",
       "occupation        1843\n",
       "relationship         0\n",
       "race                 0\n",
       "sex                  0\n",
       "capital-gain         0\n",
       "capital-loss         0\n",
       "hours-per-week       0\n",
       "native-country     583\n",
       "income               0\n",
       "dtype: int64"
      ]
     },
     "execution_count": 5,
     "metadata": {},
     "output_type": "execute_result"
    }
   ],
   "source": [
    "#viewing number of missing values that had \n",
    "df.isin(['?']).sum(axis=0)"
   ]
  },
  {
   "cell_type": "code",
   "execution_count": 6,
   "id": "1faf4f91",
   "metadata": {},
   "outputs": [
    {
     "name": "stdout",
     "output_type": "stream",
     "text": [
      "<class 'pandas.core.frame.DataFrame'>\n",
      "RangeIndex: 32561 entries, 0 to 32560\n",
      "Data columns (total 15 columns):\n",
      " #   Column          Non-Null Count  Dtype \n",
      "---  ------          --------------  ----- \n",
      " 0   age             32561 non-null  int64 \n",
      " 1   workclass       30725 non-null  object\n",
      " 2   fnlwgt          32561 non-null  int64 \n",
      " 3   education       32561 non-null  object\n",
      " 4   education-num   32561 non-null  int64 \n",
      " 5   marital-status  32561 non-null  object\n",
      " 6   occupation      30718 non-null  object\n",
      " 7   relationship    32561 non-null  object\n",
      " 8   race            32561 non-null  object\n",
      " 9   sex             32561 non-null  object\n",
      " 10  capital-gain    32561 non-null  int64 \n",
      " 11  capital-loss    32561 non-null  int64 \n",
      " 12  hours-per-week  32561 non-null  int64 \n",
      " 13  native-country  31978 non-null  object\n",
      " 14  income          32561 non-null  object\n",
      "dtypes: int64(6), object(9)\n",
      "memory usage: 3.7+ MB\n",
      "None\n"
     ]
    }
   ],
   "source": [
    "#converting '?' values to nan and then removing the row (code from asynch 1 notebook)\n",
    "df = df.replace(to_replace='?',value=np.nan) # replace -1 with NaN (not a number)\n",
    "print (df.info())"
   ]
  },
  {
   "cell_type": "code",
   "execution_count": 7,
   "id": "3d03160c",
   "metadata": {},
   "outputs": [
    {
     "name": "stdout",
     "output_type": "stream",
     "text": [
      "<class 'pandas.core.frame.DataFrame'>\n",
      "RangeIndex: 32561 entries, 0 to 32560\n",
      "Data columns (total 15 columns):\n",
      " #   Column          Non-Null Count  Dtype \n",
      "---  ------          --------------  ----- \n",
      " 0   age             32561 non-null  int64 \n",
      " 1   workclass       30725 non-null  object\n",
      " 2   fnlwgt          32561 non-null  int64 \n",
      " 3   education       32561 non-null  object\n",
      " 4   education-num   32561 non-null  int64 \n",
      " 5   marital-status  32561 non-null  object\n",
      " 6   occupation      30718 non-null  object\n",
      " 7   relationship    32561 non-null  object\n",
      " 8   race            32561 non-null  object\n",
      " 9   sex             32561 non-null  object\n",
      " 10  capital-gain    32561 non-null  int64 \n",
      " 11  capital-loss    32561 non-null  int64 \n",
      " 12  hours-per-week  32561 non-null  int64 \n",
      " 13  native-country  31978 non-null  object\n",
      " 14  income          32561 non-null  object\n",
      "dtypes: int64(6), object(9)\n",
      "memory usage: 3.7+ MB\n"
     ]
    }
   ],
   "source": [
    "#Kohavi and Becker describe 6 instances of duplicates. i can't seem to find them. \n",
    "df.duplicated(subset=None, keep='first')\n",
    "df.info()\n",
    "#no changes in values. the duplicates have likely been removed prior."
   ]
  },
  {
   "cell_type": "markdown",
   "id": "223a881b",
   "metadata": {},
   "source": [
    "**3. Give simple, appropriate statistics (range, mode, mean, median, variance, counts, etc.) for the most important attributes and describe what they mean or if you found something interesting. Note: You can also use data from other sources for comparison. Explain the significance of the statistics run and why they are meaningful.**"
   ]
  },
  {
   "cell_type": "code",
   "execution_count": 8,
   "id": "ce383787",
   "metadata": {},
   "outputs": [
    {
     "name": "stdout",
     "output_type": "stream",
     "text": [
      "0.2408095574460244\n"
     ]
    }
   ],
   "source": [
    "#convert income to 0 and 1 to enable easier analysis (code from https://towardsdatascience.com/a-beginners-guide-to-data-analysis-machine-learning-with-python-adult-salary-dataset-e5fc028b6f0a)\n",
    "df['income'] = df['income'].map({'<=50K': 0, '>50K': 1}).astype(int)\n"
   ]
  },
  {
   "cell_type": "code",
   "execution_count": 16,
   "id": "bd00a939",
   "metadata": {},
   "outputs": [
    {
     "name": "stdout",
     "output_type": "stream",
     "text": [
      "Percentage of Individuals with Income Greater than $50K\n",
      "0.2408095574460244\n"
     ]
    }
   ],
   "source": [
    "print('Percentage of Individuals with Income Greater than $50K')\n",
    "print (df.income.sum() / df.income.count())#percentage"
   ]
  },
  {
   "cell_type": "code",
   "execution_count": 18,
   "id": "6ff1a985",
   "metadata": {},
   "outputs": [
    {
     "name": "stdout",
     "output_type": "stream",
     "text": [
      "General Statistics for Numeric Values\n"
     ]
    },
    {
     "data": {
      "text/html": [
       "<div>\n",
       "<style scoped>\n",
       "    .dataframe tbody tr th:only-of-type {\n",
       "        vertical-align: middle;\n",
       "    }\n",
       "\n",
       "    .dataframe tbody tr th {\n",
       "        vertical-align: top;\n",
       "    }\n",
       "\n",
       "    .dataframe thead th {\n",
       "        text-align: right;\n",
       "    }\n",
       "</style>\n",
       "<table border=\"1\" class=\"dataframe\">\n",
       "  <thead>\n",
       "    <tr style=\"text-align: right;\">\n",
       "      <th></th>\n",
       "      <th>age</th>\n",
       "      <th>fnlwgt</th>\n",
       "      <th>education-num</th>\n",
       "      <th>capital-gain</th>\n",
       "      <th>capital-loss</th>\n",
       "      <th>hours-per-week</th>\n",
       "      <th>income</th>\n",
       "    </tr>\n",
       "  </thead>\n",
       "  <tbody>\n",
       "    <tr>\n",
       "      <th>count</th>\n",
       "      <td>32561.000000</td>\n",
       "      <td>3.256100e+04</td>\n",
       "      <td>32561.000000</td>\n",
       "      <td>32561.000000</td>\n",
       "      <td>32561.000000</td>\n",
       "      <td>32561.000000</td>\n",
       "      <td>32561.000000</td>\n",
       "    </tr>\n",
       "    <tr>\n",
       "      <th>mean</th>\n",
       "      <td>38.581647</td>\n",
       "      <td>1.897784e+05</td>\n",
       "      <td>10.080679</td>\n",
       "      <td>1077.648844</td>\n",
       "      <td>87.303830</td>\n",
       "      <td>40.437456</td>\n",
       "      <td>0.240810</td>\n",
       "    </tr>\n",
       "    <tr>\n",
       "      <th>std</th>\n",
       "      <td>13.640433</td>\n",
       "      <td>1.055500e+05</td>\n",
       "      <td>2.572720</td>\n",
       "      <td>7385.292085</td>\n",
       "      <td>402.960219</td>\n",
       "      <td>12.347429</td>\n",
       "      <td>0.427581</td>\n",
       "    </tr>\n",
       "    <tr>\n",
       "      <th>min</th>\n",
       "      <td>17.000000</td>\n",
       "      <td>1.228500e+04</td>\n",
       "      <td>1.000000</td>\n",
       "      <td>0.000000</td>\n",
       "      <td>0.000000</td>\n",
       "      <td>1.000000</td>\n",
       "      <td>0.000000</td>\n",
       "    </tr>\n",
       "    <tr>\n",
       "      <th>25%</th>\n",
       "      <td>28.000000</td>\n",
       "      <td>1.178270e+05</td>\n",
       "      <td>9.000000</td>\n",
       "      <td>0.000000</td>\n",
       "      <td>0.000000</td>\n",
       "      <td>40.000000</td>\n",
       "      <td>0.000000</td>\n",
       "    </tr>\n",
       "    <tr>\n",
       "      <th>50%</th>\n",
       "      <td>37.000000</td>\n",
       "      <td>1.783560e+05</td>\n",
       "      <td>10.000000</td>\n",
       "      <td>0.000000</td>\n",
       "      <td>0.000000</td>\n",
       "      <td>40.000000</td>\n",
       "      <td>0.000000</td>\n",
       "    </tr>\n",
       "    <tr>\n",
       "      <th>75%</th>\n",
       "      <td>48.000000</td>\n",
       "      <td>2.370510e+05</td>\n",
       "      <td>12.000000</td>\n",
       "      <td>0.000000</td>\n",
       "      <td>0.000000</td>\n",
       "      <td>45.000000</td>\n",
       "      <td>0.000000</td>\n",
       "    </tr>\n",
       "    <tr>\n",
       "      <th>max</th>\n",
       "      <td>90.000000</td>\n",
       "      <td>1.484705e+06</td>\n",
       "      <td>16.000000</td>\n",
       "      <td>99999.000000</td>\n",
       "      <td>4356.000000</td>\n",
       "      <td>99.000000</td>\n",
       "      <td>1.000000</td>\n",
       "    </tr>\n",
       "  </tbody>\n",
       "</table>\n",
       "</div>"
      ],
      "text/plain": [
       "                age        fnlwgt  education-num  capital-gain  capital-loss  \\\n",
       "count  32561.000000  3.256100e+04   32561.000000  32561.000000  32561.000000   \n",
       "mean      38.581647  1.897784e+05      10.080679   1077.648844     87.303830   \n",
       "std       13.640433  1.055500e+05       2.572720   7385.292085    402.960219   \n",
       "min       17.000000  1.228500e+04       1.000000      0.000000      0.000000   \n",
       "25%       28.000000  1.178270e+05       9.000000      0.000000      0.000000   \n",
       "50%       37.000000  1.783560e+05      10.000000      0.000000      0.000000   \n",
       "75%       48.000000  2.370510e+05      12.000000      0.000000      0.000000   \n",
       "max       90.000000  1.484705e+06      16.000000  99999.000000   4356.000000   \n",
       "\n",
       "       hours-per-week        income  \n",
       "count    32561.000000  32561.000000  \n",
       "mean        40.437456      0.240810  \n",
       "std         12.347429      0.427581  \n",
       "min          1.000000      0.000000  \n",
       "25%         40.000000      0.000000  \n",
       "50%         40.000000      0.000000  \n",
       "75%         45.000000      0.000000  \n",
       "max         99.000000      1.000000  "
      ]
     },
     "execution_count": 18,
     "metadata": {},
     "output_type": "execute_result"
    }
   ],
   "source": [
    "print('General Statistics for Numeric Values')\n",
    "df.describe()"
   ]
  },
  {
   "cell_type": "code",
   "execution_count": 30,
   "id": "14d085d4",
   "metadata": {},
   "outputs": [],
   "source": [
    "#creating dataframes for percentage of each level in the categorical attribute\n",
    "race_per = df['race'].value_counts()/len(df)*100\n",
    "sex_per = df['sex'].value_counts()/len(df)*100\n",
    "marital_per = df['marital-status'].value_counts()/len(df)*100\n",
    "country_per = df['native-country'].value_counts()/len(df)*100\n",
    "education_per = df['education'].value_counts()/len(df)*100\n",
    "workclass_per = df['workclass'].value_counts()/len(df)*100\n",
    "occupation_per = df['occupation'].value_counts()/len(df)*100\n",
    "relation_per = df['relationship'].value_counts()/len(df)*100"
   ]
  },
  {
   "cell_type": "code",
   "execution_count": 90,
   "metadata": {},
   "outputs": [
    {
     "name": "stdout",
     "output_type": "stream",
     "text": [
      "Percentage of Each Sex Level\n",
      "Male      66.920549\n",
      "Female    33.079451\n",
      "Name: sex, dtype: float64\n"
     ]
    },
    {
     "data": {
      "image/png": "[encoded data removed]",
      "text/plain": [
       "<Figure size 324x216 with 1 Axes>"
      ]
     },
     "metadata": {},
     "output_type": "display_data"
    }
   ],
   "source": [
    "ax = sns.catplot(x=\"sex\", data=df, kind=\"count\", height=3, aspect=1.5, palette='RdYlBu_r')\n",
    "print('Percentage of Each Sex Level')\n",
    "print(sex_per)\n"
   ]
  },
  {
   "cell_type": "code",
   "execution_count": 103,
   "id": "42dafe87",
   "metadata": {},
   "outputs": [
    {
     "data": {
      "image/png": "[encoded data removed]",
      "text/plain": [
       "<Figure size 576x288 with 1 Axes>"
      ]
     },
     "metadata": {},
     "output_type": "display_data"
    },
    {
     "name": "stdout",
     "output_type": "stream",
     "text": [
      "Percentage of Each Race Categorical Level\n",
      "White                 85.427352\n",
      "Black                  9.594300\n",
      "Asian-Pac-Islander     3.190934\n",
      "Amer-Indian-Eskimo     0.955130\n",
      "Other                  0.832284\n",
      "Name: race, dtype: float64\n"
     ]
    }
   ],
   "source": [
    "ax = sns.catplot(x=\"race\", data=df, kind=\"count\", height=4, aspect=2, palette='RdYlBu_r')\n",
    "plt.xticks(rotation=70)\n",
    "plt.tight_layout()\n",
    "plt.show()\n",
    "print('Percentage of Each Race Categorical Level')\n",
    "print(race_per)\n"
   ]
  },
  {
   "cell_type": "code",
   "execution_count": 102,
   "id": "bce80e2b",
   "metadata": {},
   "outputs": [
    {
     "data": {
      "image/png": "[encoded data removed]",
      "text/plain": [
       "<Figure size 576x288 with 1 Axes>"
      ]
     },
     "metadata": {},
     "output_type": "display_data"
    },
    {
     "name": "stdout",
     "output_type": "stream",
     "text": [
      "Percentage of Each OccupationLevel\n",
      "Prof-specialty       12.714597\n",
      "Craft-repair         12.588680\n",
      "Exec-managerial      12.487331\n",
      "Adm-clerical         11.578268\n",
      "Sales                11.209729\n",
      "Other-service        10.119468\n",
      "Machine-op-inspct     6.148460\n",
      "Transport-moving      4.904641\n",
      "Handlers-cleaners     4.207487\n",
      "Farming-fishing       3.052732\n",
      "Tech-support          2.850035\n",
      "Protective-serv       1.993182\n",
      "Priv-house-serv       0.457603\n",
      "Armed-Forces          0.027640\n",
      "Name: occupation, dtype: float64\n"
     ]
    }
   ],
   "source": [
    "ax = sns.catplot(x=\"occupation\", data=df, kind=\"count\", height=4, aspect=2, palette='RdYlBu_r', \n",
    "    order=df['occupation'].value_counts().index)\n",
    "plt.xticks(rotation=70)\n",
    "plt.tight_layout()\n",
    "plt.show()\n",
    "print('Percentage of Each OccupationLevel')\n",
    "print(occupation_per)\n"
   ]
  },
  {
   "cell_type": "code",
   "execution_count": 105,
   "id": "576701d5",
   "metadata": {},
   "outputs": [
    {
     "data": {
      "image/png": "[encoded data removed]",
      "text/plain": [
       "<Figure size 576x288 with 1 Axes>"
      ]
     },
     "metadata": {},
     "output_type": "display_data"
    },
    {
     "name": "stdout",
     "output_type": "stream",
     "text": [
      "Percentage of Each Education Categorical Level\n",
      "White                 85.427352\n",
      "Black                  9.594300\n",
      "Asian-Pac-Islander     3.190934\n",
      "Amer-Indian-Eskimo     0.955130\n",
      "Other                  0.832284\n",
      "Name: race, dtype: float64\n"
     ]
    }
   ],
   "source": [
    "ax = sns.catplot(x=\"education\", data=df, kind=\"count\", height=4, aspect=2, palette='RdYlBu_r', \n",
    "    order=df['education'].value_counts().index)\n",
    "plt.xticks(rotation=70)\n",
    "plt.tight_layout()\n",
    "plt.show()\n",
    "print('Percentage of Each Education Categorical Level')\n",
    "print(race_per)"
   ]
  },
  {
   "cell_type": "code",
   "execution_count": 108,
   "id": "6a065ded",
   "metadata": {},
   "outputs": [
    {
     "name": "stdout",
     "output_type": "stream",
     "text": [
      "race\n",
      "Amer-Indian-Eskimo    0.115756\n",
      "Asian-Pac-Islander    0.265640\n",
      "Black                 0.123880\n",
      "Other                 0.092251\n",
      "White                 0.255860\n",
      "Name: income, dtype: float64\n",
      "sex\n",
      "Female    0.109461\n",
      "Male      0.305737\n",
      "Name: income, dtype: float64\n",
      "marital-status\n",
      "Divorced                 0.104209\n",
      "Married-AF-spouse        0.434783\n",
      "Married-civ-spouse       0.446848\n",
      "Married-spouse-absent    0.081340\n",
      "Never-married            0.045961\n",
      "Separated                0.064390\n",
      "Widowed                  0.085599\n",
      "Name: income, dtype: float64\n",
      "native-country\n",
      "Cambodia                      0.368421\n",
      "Canada                        0.322314\n",
      "China                         0.266667\n",
      "Columbia                      0.033898\n",
      "Cuba                          0.263158\n",
      "Dominican-Republic            0.028571\n",
      "Ecuador                       0.142857\n",
      "El-Salvador                   0.084906\n",
      "England                       0.333333\n",
      "France                        0.413793\n",
      "Germany                       0.321168\n",
      "Greece                        0.275862\n",
      "Guatemala                     0.046875\n",
      "Haiti                         0.090909\n",
      "Holand-Netherlands            0.000000\n",
      "Honduras                      0.076923\n",
      "Hong                          0.300000\n",
      "Hungary                       0.230769\n",
      "India                         0.400000\n",
      "Iran                          0.418605\n",
      "Ireland                       0.208333\n",
      "Italy                         0.342466\n",
      "Jamaica                       0.123457\n",
      "Japan                         0.387097\n",
      "Laos                          0.111111\n",
      "Mexico                        0.051322\n",
      "Nicaragua                     0.058824\n",
      "Outlying-US(Guam-USVI-etc)    0.000000\n",
      "Peru                          0.064516\n",
      "Philippines                   0.308081\n",
      "Poland                        0.200000\n",
      "Portugal                      0.108108\n",
      "Puerto-Rico                   0.105263\n",
      "Scotland                      0.250000\n",
      "South                         0.200000\n",
      "Taiwan                        0.392157\n",
      "Thailand                      0.166667\n",
      "Trinadad&Tobago               0.105263\n",
      "United-States                 0.245835\n",
      "Vietnam                       0.074627\n",
      "Yugoslavia                    0.375000\n",
      "Name: income, dtype: float64\n"
     ]
    }
   ],
   "source": [
    "#Aggregating by race and income over 50K code adapted from asynch 2 notebook\n",
    "df_grouped = df.groupby(by='race')\n",
    "print (df_grouped.income.sum() / df_grouped.income.count())#percentage\n",
    "df_grouped = df.groupby(by='sex')\n",
    "print (df_grouped.income.sum() / df_grouped.income.count())#percentage\n",
    "df_grouped = df.groupby(by='marital-status')\n",
    "print (df_grouped.income.sum() / df_grouped.income.count())#percentage\n",
    "df_grouped = df.groupby(by='native-country')\n",
    "print (df_grouped.income.sum() / df_grouped.income.count())#percentage"
   ]
  },
  {
   "cell_type": "code",
   "execution_count": 13,
   "id": "c7511f60",
   "metadata": {},
   "outputs": [
    {
     "name": "stdout",
     "output_type": "stream",
     "text": [
      "Percentage of individuals with income greater than 50K in each group:\n",
      "race                sex   \n",
      "Amer-Indian-Eskimo  Female    10.084034\n",
      "                    Male      12.500000\n",
      "Asian-Pac-Islander  Female    12.427746\n",
      "                    Male      33.621934\n",
      "Black               Female     5.787781\n",
      "                    Male      18.929254\n",
      "Other               Female     5.504587\n",
      "                    Male      11.728395\n",
      "White               Female    11.895395\n",
      "                    Male      31.756545\n",
      "Name: income, dtype: float64\n"
     ]
    }
   ],
   "source": [
    "#calculating the percentage of each grouped category by race and sex\n",
    "df_grouped = df.groupby(by=['race','sex'])\n",
    "print (\"Percentage of individuals with income greater than 50K in each group:\")\n",
    "print (df_grouped.income.sum() / df_grouped.income.count() *100)"
   ]
  },
  {
   "cell_type": "code",
   "execution_count": 122,
   "id": "ef09c63c",
   "metadata": {},
   "outputs": [],
   "source": [
    "# this python magics will allow plot to be embedded into the notebook - code adapted from asynch 2 nb\n",
    "warnings.simplefilter('ignore', DeprecationWarning)\n",
    "%matplotlib inline"
   ]
  },
  {
   "cell_type": "code",
   "execution_count": 123,
   "id": "c179931d",
   "metadata": {},
   "outputs": [
    {
     "name": "stdout",
     "output_type": "stream",
     "text": [
      "income                     False  True \n",
      "race               sex                 \n",
      "Amer-Indian-Eskimo Female    107     12\n",
      "                   Male      168     24\n",
      "Asian-Pac-Islander Female    303     43\n",
      "                   Male      460    233\n",
      "Black              Female   1465     90\n",
      "                   Male     1272    297\n",
      "Other              Female    103      6\n",
      "                   Male      143     19\n",
      "White              Female   7614   1028\n",
      "                   Male    13085   6089\n"
     ]
    }
   ],
   "source": [
    "# the cross tab operator provides an easy way to get these numbers\n",
    "income50k = pd.crosstab([ df['race'],df['sex'] ], \n",
    "                       df.income.astype(bool))\n",
    "print (income50k)"
   ]
  },
  {
   "cell_type": "code",
   "execution_count": 124,
   "id": "b207b091",
   "metadata": {},
   "outputs": [
    {
     "name": "stdout",
     "output_type": "stream",
     "text": [
      "Percentage of Individuals by Race and Sex with Income>$50K\n"
     ]
    },
    {
     "data": {
      "image/png": "[encoded data removed]",
      "text/plain": [
       "<Figure size 432x288 with 1 Axes>"
      ]
     },
     "metadata": {
      "needs_background": "light"
     },
     "output_type": "display_data"
    }
   ],
   "source": [
    "income50k_rate = income50k.div(income50k.sum(1).astype(float),\n",
    "                             axis=0) # normalize the value\n",
    "\n",
    "print('Percentage of Individuals by Race and Sex with Income>$50K')\n",
    "# print survival_rate\n",
    "ax = income50k_rate.plot(kind='barh', stacked=True)\n"
   ]
  },
  {
   "cell_type": "markdown",
   "id": "04721f49",
   "metadata": {},
   "source": [
    "**Interpretation of Crosstab for Race and Sex**\n",
    "* White men and Asian Pacific Islander men have similar percentages of their respectives groups which are the highest among all groups. \n",
    "* Women in each race category have a smaller percentage of earners over $50k than men in the same race.\n",
    "* The largest disparity across all groups exists for Black women and women who fall in the \"Other\" category.\n"
   ]
  },
  {
   "cell_type": "markdown",
   "id": "c3c3fe8e",
   "metadata": {},
   "source": [
    "**4. Visualize the most important attributes appropriately (at least 5 attributes). Important: Provide an interpretation for each chart. Explain for each attribute why the chosen visualization is appropriate.**"
   ]
  },
  {
   "cell_type": "code",
   "execution_count": null,
   "id": "118da9de",
   "metadata": {},
   "outputs": [],
   "source": []
  },
  {
   "cell_type": "markdown",
   "id": "3bbfc30e",
   "metadata": {},
   "source": [
    "**5. Explore relationships between attributes: Look at the attributes via scatter plots, correlation, cross-tabulation, group-wise averages, etc. as appropriate. Explain any interesting relationships.** "
   ]
  },
  {
   "cell_type": "code",
   "execution_count": null,
   "id": "2754185c",
   "metadata": {},
   "outputs": [],
   "source": []
  },
  {
   "cell_type": "markdown",
   "id": "04de7223",
   "metadata": {},
   "source": [
    "**6. Identify and explain interesting relationships between features and the class you are trying to predict (i.e., relationships with variables and the target classification).**"
   ]
  },
  {
   "cell_type": "code",
   "execution_count": null,
   "id": "e3781210",
   "metadata": {},
   "outputs": [],
   "source": []
  },
  {
   "cell_type": "markdown",
   "id": "d5bbe510",
   "metadata": {},
   "source": [
    "**7. Are there other features that could be added to the data or created from existing features? Which ones?**"
   ]
  },
  {
   "cell_type": "markdown",
   "id": "61e419d2",
   "metadata": {},
   "source": [
    "ideas from hg: \n",
    "* add another column for immigrant and populate with 0 if native-country==\"United-States\" and 1 if native-country is another country."
   ]
  },
  {
   "cell_type": "code",
   "execution_count": 126,
   "id": "6879ca4b",
   "metadata": {},
   "outputs": [
    {
     "data": {
      "text/html": [
       "<div>\n",
       "<style scoped>\n",
       "    .dataframe tbody tr th:only-of-type {\n",
       "        vertical-align: middle;\n",
       "    }\n",
       "\n",
       "    .dataframe tbody tr th {\n",
       "        vertical-align: top;\n",
       "    }\n",
       "\n",
       "    .dataframe thead th {\n",
       "        text-align: right;\n",
       "    }\n",
       "</style>\n",
       "<table border=\"1\" class=\"dataframe\">\n",
       "  <thead>\n",
       "    <tr style=\"text-align: right;\">\n",
       "      <th></th>\n",
       "      <th>age</th>\n",
       "      <th>workclass</th>\n",
       "      <th>fnlwgt</th>\n",
       "      <th>education</th>\n",
       "      <th>education-num</th>\n",
       "      <th>marital-status</th>\n",
       "      <th>occupation</th>\n",
       "      <th>relationship</th>\n",
       "      <th>race</th>\n",
       "      <th>sex</th>\n",
       "      <th>capital-gain</th>\n",
       "      <th>capital-loss</th>\n",
       "      <th>hours-per-week</th>\n",
       "      <th>native-country</th>\n",
       "      <th>income</th>\n",
       "      <th>immigrant</th>\n",
       "    </tr>\n",
       "  </thead>\n",
       "  <tbody>\n",
       "    <tr>\n",
       "      <th>0</th>\n",
       "      <td>39</td>\n",
       "      <td>State-gov</td>\n",
       "      <td>77516</td>\n",
       "      <td>Bachelors</td>\n",
       "      <td>13</td>\n",
       "      <td>Never-married</td>\n",
       "      <td>Adm-clerical</td>\n",
       "      <td>Not-in-family</td>\n",
       "      <td>White</td>\n",
       "      <td>Male</td>\n",
       "      <td>2174</td>\n",
       "      <td>0</td>\n",
       "      <td>40</td>\n",
       "      <td>United-States</td>\n",
       "      <td>0</td>\n",
       "      <td>0</td>\n",
       "    </tr>\n",
       "    <tr>\n",
       "      <th>1</th>\n",
       "      <td>50</td>\n",
       "      <td>Self-emp-not-inc</td>\n",
       "      <td>83311</td>\n",
       "      <td>Bachelors</td>\n",
       "      <td>13</td>\n",
       "      <td>Married-civ-spouse</td>\n",
       "      <td>Exec-managerial</td>\n",
       "      <td>Husband</td>\n",
       "      <td>White</td>\n",
       "      <td>Male</td>\n",
       "      <td>0</td>\n",
       "      <td>0</td>\n",
       "      <td>13</td>\n",
       "      <td>United-States</td>\n",
       "      <td>0</td>\n",
       "      <td>0</td>\n",
       "    </tr>\n",
       "    <tr>\n",
       "      <th>2</th>\n",
       "      <td>38</td>\n",
       "      <td>Private</td>\n",
       "      <td>215646</td>\n",
       "      <td>HS-grad</td>\n",
       "      <td>9</td>\n",
       "      <td>Divorced</td>\n",
       "      <td>Handlers-cleaners</td>\n",
       "      <td>Not-in-family</td>\n",
       "      <td>White</td>\n",
       "      <td>Male</td>\n",
       "      <td>0</td>\n",
       "      <td>0</td>\n",
       "      <td>40</td>\n",
       "      <td>United-States</td>\n",
       "      <td>0</td>\n",
       "      <td>0</td>\n",
       "    </tr>\n",
       "    <tr>\n",
       "      <th>3</th>\n",
       "      <td>53</td>\n",
       "      <td>Private</td>\n",
       "      <td>234721</td>\n",
       "      <td>11th</td>\n",
       "      <td>7</td>\n",
       "      <td>Married-civ-spouse</td>\n",
       "      <td>Handlers-cleaners</td>\n",
       "      <td>Husband</td>\n",
       "      <td>Black</td>\n",
       "      <td>Male</td>\n",
       "      <td>0</td>\n",
       "      <td>0</td>\n",
       "      <td>40</td>\n",
       "      <td>United-States</td>\n",
       "      <td>0</td>\n",
       "      <td>0</td>\n",
       "    </tr>\n",
       "    <tr>\n",
       "      <th>4</th>\n",
       "      <td>28</td>\n",
       "      <td>Private</td>\n",
       "      <td>338409</td>\n",
       "      <td>Bachelors</td>\n",
       "      <td>13</td>\n",
       "      <td>Married-civ-spouse</td>\n",
       "      <td>Prof-specialty</td>\n",
       "      <td>Wife</td>\n",
       "      <td>Black</td>\n",
       "      <td>Female</td>\n",
       "      <td>0</td>\n",
       "      <td>0</td>\n",
       "      <td>40</td>\n",
       "      <td>Cuba</td>\n",
       "      <td>0</td>\n",
       "      <td>1</td>\n",
       "    </tr>\n",
       "  </tbody>\n",
       "</table>\n",
       "</div>"
      ],
      "text/plain": [
       "   age         workclass  fnlwgt  education  education-num  \\\n",
       "0   39         State-gov   77516  Bachelors             13   \n",
       "1   50  Self-emp-not-inc   83311  Bachelors             13   \n",
       "2   38           Private  215646    HS-grad              9   \n",
       "3   53           Private  234721       11th              7   \n",
       "4   28           Private  338409  Bachelors             13   \n",
       "\n",
       "       marital-status         occupation   relationship   race     sex  \\\n",
       "0       Never-married       Adm-clerical  Not-in-family  White    Male   \n",
       "1  Married-civ-spouse    Exec-managerial        Husband  White    Male   \n",
       "2            Divorced  Handlers-cleaners  Not-in-family  White    Male   \n",
       "3  Married-civ-spouse  Handlers-cleaners        Husband  Black    Male   \n",
       "4  Married-civ-spouse     Prof-specialty           Wife  Black  Female   \n",
       "\n",
       "   capital-gain  capital-loss  hours-per-week native-country  income  \\\n",
       "0          2174             0              40  United-States       0   \n",
       "1             0             0              13  United-States       0   \n",
       "2             0             0              40  United-States       0   \n",
       "3             0             0              40  United-States       0   \n",
       "4             0             0              40           Cuba       0   \n",
       "\n",
       "   immigrant  \n",
       "0          0  \n",
       "1          0  \n",
       "2          0  \n",
       "3          0  \n",
       "4          1  "
      ]
     },
     "execution_count": 126,
     "metadata": {},
     "output_type": "execute_result"
    }
   ],
   "source": [
    "df['immigrant'] = np.where(df['native-country']!= 'United-States', 1, 0)\n",
    "df.head()"
   ]
  },
  {
   "cell_type": "code",
   "execution_count": 131,
   "id": "8359613f",
   "metadata": {},
   "outputs": [
    {
     "name": "stdout",
     "output_type": "stream",
     "text": [
      "income     False  True \n",
      "immigrant              \n",
      "0          21999   7171\n",
      "1           2721    670\n"
     ]
    }
   ],
   "source": [
    "# the cross tab operator of immigrant status and income\n",
    "income50k = pd.crosstab([ df['immigrant']], \n",
    "                       df.income.astype(bool))\n",
    "print (income50k)"
   ]
  },
  {
   "cell_type": "code",
   "execution_count": 132,
   "id": "52562865",
   "metadata": {},
   "outputs": [
    {
     "name": "stdout",
     "output_type": "stream",
     "text": [
      "Percentage of Individuals by Immigrant Status(1) with Income>$50K\n"
     ]
    },
    {
     "data": {
      "image/png": "[encoded data removed]",
      "text/plain": [
       "<Figure size 432x288 with 1 Axes>"
      ]
     },
     "metadata": {
      "needs_background": "light"
     },
     "output_type": "display_data"
    }
   ],
   "source": [
    "income50k_rate = income50k.div(income50k.sum(1).astype(float),\n",
    "                             axis=0) # normalize the value\n",
    "\n",
    "print('Percentage of Individuals by Immigrant Status(1) with Income>$50K')\n",
    "# print income50k_rate\n",
    "ax = income50k_rate.plot(kind='barh', stacked=True)"
   ]
  },
  {
   "cell_type": "markdown",
   "id": "76329365",
   "metadata": {},
   "source": [
    "**Interpretation of crosstab of immigrant status**\n",
    "The percentage of immigrants who have an income greater than $50k is less than the percentage of non-immigrants who have an income greater than $50k. While this could be affected by a number of other factors, there may be some indication that there are barriers that prevent immigrants from participating fully or receiving the same income for the same work as non-immigrants."
   ]
  },
  {
   "cell_type": "markdown",
   "id": "07610767",
   "metadata": {},
   "source": [
    "**8. Exceptional Work, One idea: implement dimensionality reduction, then visualize and interpret the results.**"
   ]
  },
  {
   "cell_type": "code",
   "execution_count": null,
   "id": "a51c5632",
   "metadata": {},
   "outputs": [],
   "source": []
  }
 ],
 "metadata": {
  "kernelspec": {
   "display_name": "Python 3 (ipykernel)",
   "language": "python",
   "name": "python3"
  },
  "language_info": {
   "codemirror_mode": {
    "name": "ipython",
    "version": 3
   },
   "file_extension": ".py",
   "mimetype": "text/x-python",
   "name": "python",
   "nbconvert_exporter": "python",
   "pygments_lexer": "ipython3",
   "version": "3.8.8"
  }
 },
 "nbformat": 4,
 "nbformat_minor": 5
}
